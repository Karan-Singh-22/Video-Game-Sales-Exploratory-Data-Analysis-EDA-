{
 "cells": [
  {
   "cell_type": "markdown",
   "id": "4ef81847-b446-45a9-ad02-565b712e40da",
   "metadata": {},
   "source": [
    "The primary focus of this project is to perform an exploratory data analysis (EDA) on a dataset related to Video games sales. Through this EDA, the aim is to gain valuable insights and uncover patterns, trends, and relationships that may exist within the data.\n",
    "\n",
    "As a gamer myself, I am interested in learning the trends of video games; how gaming trends changes from childhood to current time.\n"
   ]
  },
  {
   "cell_type": "markdown",
   "id": "86854529-810d-413a-bfbd-e2d6a539db96",
   "metadata": {},
   "source": [
    "## Data Overview\n"
   ]
  },
  {
   "cell_type": "markdown",
   "id": "544f76b4-ccc0-4bfe-b45f-faab6dd51b62",
   "metadata": {},
   "source": [
    "First thing first, we need to import the modules we are going to use"
   ]
  },
  {
   "cell_type": "code",
   "execution_count": 1,
   "id": "126b7990-8f28-4dbb-9a98-a08782fcfd1c",
   "metadata": {},
   "outputs": [],
   "source": [
    "import pandas as pd\n",
    "import matplotlib.pyplot as plt"
   ]
  },
  {
   "cell_type": "code",
   "execution_count": 2,
   "id": "a748db44-a191-404e-8a29-bd4cb4f8692e",
   "metadata": {},
   "outputs": [],
   "source": [
    "df = pd.read_csv(\"video_games_sales.csv\")"
   ]
  },
  {
   "cell_type": "code",
   "execution_count": 3,
   "id": "357f5ac7-703b-4c51-aadb-0fafc2cd9082",
   "metadata": {},
   "outputs": [
    {
     "data": {
      "text/html": [
       "<div>\n",
       "<style scoped>\n",
       "    .dataframe tbody tr th:only-of-type {\n",
       "        vertical-align: middle;\n",
       "    }\n",
       "\n",
       "    .dataframe tbody tr th {\n",
       "        vertical-align: top;\n",
       "    }\n",
       "\n",
       "    .dataframe thead th {\n",
       "        text-align: right;\n",
       "    }\n",
       "</style>\n",
       "<table border=\"1\" class=\"dataframe\">\n",
       "  <thead>\n",
       "    <tr style=\"text-align: right;\">\n",
       "      <th></th>\n",
       "      <th>rank</th>\n",
       "      <th>name</th>\n",
       "      <th>platform</th>\n",
       "      <th>year</th>\n",
       "      <th>genre</th>\n",
       "      <th>publisher</th>\n",
       "      <th>na_sales</th>\n",
       "      <th>eu_sales</th>\n",
       "      <th>jp_sales</th>\n",
       "      <th>other_sales</th>\n",
       "      <th>global_sales</th>\n",
       "    </tr>\n",
       "  </thead>\n",
       "  <tbody>\n",
       "    <tr>\n",
       "      <th>0</th>\n",
       "      <td>1</td>\n",
       "      <td>Wii Sports</td>\n",
       "      <td>Wii</td>\n",
       "      <td>2006.0</td>\n",
       "      <td>Sports</td>\n",
       "      <td>Nintendo</td>\n",
       "      <td>41.49</td>\n",
       "      <td>29.02</td>\n",
       "      <td>3.77</td>\n",
       "      <td>8.46</td>\n",
       "      <td>82.74</td>\n",
       "    </tr>\n",
       "    <tr>\n",
       "      <th>1</th>\n",
       "      <td>2</td>\n",
       "      <td>Super Mario Bros.</td>\n",
       "      <td>NES</td>\n",
       "      <td>1985.0</td>\n",
       "      <td>Platform</td>\n",
       "      <td>Nintendo</td>\n",
       "      <td>29.08</td>\n",
       "      <td>3.58</td>\n",
       "      <td>6.81</td>\n",
       "      <td>0.77</td>\n",
       "      <td>40.24</td>\n",
       "    </tr>\n",
       "    <tr>\n",
       "      <th>2</th>\n",
       "      <td>3</td>\n",
       "      <td>Mario Kart Wii</td>\n",
       "      <td>Wii</td>\n",
       "      <td>2008.0</td>\n",
       "      <td>Racing</td>\n",
       "      <td>Nintendo</td>\n",
       "      <td>15.85</td>\n",
       "      <td>12.88</td>\n",
       "      <td>3.79</td>\n",
       "      <td>3.31</td>\n",
       "      <td>35.82</td>\n",
       "    </tr>\n",
       "    <tr>\n",
       "      <th>3</th>\n",
       "      <td>4</td>\n",
       "      <td>Wii Sports Resort</td>\n",
       "      <td>Wii</td>\n",
       "      <td>2009.0</td>\n",
       "      <td>Sports</td>\n",
       "      <td>Nintendo</td>\n",
       "      <td>15.75</td>\n",
       "      <td>11.01</td>\n",
       "      <td>3.28</td>\n",
       "      <td>2.96</td>\n",
       "      <td>33.00</td>\n",
       "    </tr>\n",
       "    <tr>\n",
       "      <th>4</th>\n",
       "      <td>5</td>\n",
       "      <td>Pokemon Red/Pokemon Blue</td>\n",
       "      <td>GB</td>\n",
       "      <td>1996.0</td>\n",
       "      <td>Role-Playing</td>\n",
       "      <td>Nintendo</td>\n",
       "      <td>11.27</td>\n",
       "      <td>8.89</td>\n",
       "      <td>10.22</td>\n",
       "      <td>1.00</td>\n",
       "      <td>31.37</td>\n",
       "    </tr>\n",
       "  </tbody>\n",
       "</table>\n",
       "</div>"
      ],
      "text/plain": [
       "   rank                      name platform    year         genre publisher  \\\n",
       "0     1                Wii Sports      Wii  2006.0        Sports  Nintendo   \n",
       "1     2         Super Mario Bros.      NES  1985.0      Platform  Nintendo   \n",
       "2     3            Mario Kart Wii      Wii  2008.0        Racing  Nintendo   \n",
       "3     4         Wii Sports Resort      Wii  2009.0        Sports  Nintendo   \n",
       "4     5  Pokemon Red/Pokemon Blue       GB  1996.0  Role-Playing  Nintendo   \n",
       "\n",
       "   na_sales  eu_sales  jp_sales  other_sales  global_sales  \n",
       "0     41.49     29.02      3.77         8.46         82.74  \n",
       "1     29.08      3.58      6.81         0.77         40.24  \n",
       "2     15.85     12.88      3.79         3.31         35.82  \n",
       "3     15.75     11.01      3.28         2.96         33.00  \n",
       "4     11.27      8.89     10.22         1.00         31.37  "
      ]
     },
     "execution_count": 3,
     "metadata": {},
     "output_type": "execute_result"
    }
   ],
   "source": [
    "df.head()"
   ]
  },
  {
   "cell_type": "markdown",
   "id": "ad3656bb-611e-4d8c-94b2-b58e78f6c445",
   "metadata": {},
   "source": [
    "## First Look at the Data"
   ]
  },
  {
   "cell_type": "markdown",
   "id": "4ab5deb0-e935-4080-9c04-6f85407f7d05",
   "metadata": {},
   "source": [
    "In this part of the project the detailed information about the dataset is provided. Column names and column data types are displayed. I will also count the number of null and unique values to identify if there is any missing data that could possibly affect the conclusions."
   ]
  },
  {
   "cell_type": "code",
   "execution_count": 4,
   "id": "3c889897-e72f-4e21-9a1b-ff7a7432e6b2",
   "metadata": {},
   "outputs": [
    {
     "data": {
      "text/plain": [
       "(16598, 11)"
      ]
     },
     "execution_count": 4,
     "metadata": {},
     "output_type": "execute_result"
    }
   ],
   "source": [
    "# Getting the shape of the DataFrame\n",
    "df.shape"
   ]
  },
  {
   "cell_type": "code",
   "execution_count": 5,
   "id": "58206e2f-377f-4856-a6da-6071405ca754",
   "metadata": {},
   "outputs": [
    {
     "name": "stdout",
     "output_type": "stream",
     "text": [
      "<class 'pandas.core.frame.DataFrame'>\n",
      "RangeIndex: 16598 entries, 0 to 16597\n",
      "Data columns (total 11 columns):\n",
      " #   Column        Non-Null Count  Dtype  \n",
      "---  ------        --------------  -----  \n",
      " 0   rank          16598 non-null  int64  \n",
      " 1   name          16598 non-null  object \n",
      " 2   platform      16598 non-null  object \n",
      " 3   year          16327 non-null  float64\n",
      " 4   genre         16598 non-null  object \n",
      " 5   publisher     16540 non-null  object \n",
      " 6   na_sales      16598 non-null  float64\n",
      " 7   eu_sales      16598 non-null  float64\n",
      " 8   jp_sales      16598 non-null  float64\n",
      " 9   other_sales   16598 non-null  float64\n",
      " 10  global_sales  16598 non-null  float64\n",
      "dtypes: float64(6), int64(1), object(4)\n",
      "memory usage: 1.4+ MB\n"
     ]
    }
   ],
   "source": [
    "# Display DataFrame information\n",
    "df.info()"
   ]
  },
  {
   "cell_type": "code",
   "execution_count": 6,
   "id": "9253c743-5282-41a5-a50c-bc4d1f08bc43",
   "metadata": {},
   "outputs": [
    {
     "data": {
      "text/html": [
       "<div>\n",
       "<style scoped>\n",
       "    .dataframe tbody tr th:only-of-type {\n",
       "        vertical-align: middle;\n",
       "    }\n",
       "\n",
       "    .dataframe tbody tr th {\n",
       "        vertical-align: top;\n",
       "    }\n",
       "\n",
       "    .dataframe thead th {\n",
       "        text-align: right;\n",
       "    }\n",
       "</style>\n",
       "<table border=\"1\" class=\"dataframe\">\n",
       "  <thead>\n",
       "    <tr style=\"text-align: right;\">\n",
       "      <th></th>\n",
       "      <th>rank</th>\n",
       "      <th>year</th>\n",
       "      <th>na_sales</th>\n",
       "      <th>eu_sales</th>\n",
       "      <th>jp_sales</th>\n",
       "      <th>other_sales</th>\n",
       "      <th>global_sales</th>\n",
       "    </tr>\n",
       "  </thead>\n",
       "  <tbody>\n",
       "    <tr>\n",
       "      <th>count</th>\n",
       "      <td>16598.000000</td>\n",
       "      <td>16327.000000</td>\n",
       "      <td>16598.000000</td>\n",
       "      <td>16598.000000</td>\n",
       "      <td>16598.000000</td>\n",
       "      <td>16598.000000</td>\n",
       "      <td>16598.000000</td>\n",
       "    </tr>\n",
       "    <tr>\n",
       "      <th>mean</th>\n",
       "      <td>8300.605254</td>\n",
       "      <td>2006.406443</td>\n",
       "      <td>0.264667</td>\n",
       "      <td>0.146652</td>\n",
       "      <td>0.077782</td>\n",
       "      <td>0.048063</td>\n",
       "      <td>0.537441</td>\n",
       "    </tr>\n",
       "    <tr>\n",
       "      <th>std</th>\n",
       "      <td>4791.853933</td>\n",
       "      <td>5.828981</td>\n",
       "      <td>0.816683</td>\n",
       "      <td>0.505351</td>\n",
       "      <td>0.309291</td>\n",
       "      <td>0.188588</td>\n",
       "      <td>1.555028</td>\n",
       "    </tr>\n",
       "    <tr>\n",
       "      <th>min</th>\n",
       "      <td>1.000000</td>\n",
       "      <td>1980.000000</td>\n",
       "      <td>0.000000</td>\n",
       "      <td>0.000000</td>\n",
       "      <td>0.000000</td>\n",
       "      <td>0.000000</td>\n",
       "      <td>0.010000</td>\n",
       "    </tr>\n",
       "    <tr>\n",
       "      <th>25%</th>\n",
       "      <td>4151.250000</td>\n",
       "      <td>2003.000000</td>\n",
       "      <td>0.000000</td>\n",
       "      <td>0.000000</td>\n",
       "      <td>0.000000</td>\n",
       "      <td>0.000000</td>\n",
       "      <td>0.060000</td>\n",
       "    </tr>\n",
       "    <tr>\n",
       "      <th>50%</th>\n",
       "      <td>8300.500000</td>\n",
       "      <td>2007.000000</td>\n",
       "      <td>0.080000</td>\n",
       "      <td>0.020000</td>\n",
       "      <td>0.000000</td>\n",
       "      <td>0.010000</td>\n",
       "      <td>0.170000</td>\n",
       "    </tr>\n",
       "    <tr>\n",
       "      <th>75%</th>\n",
       "      <td>12449.750000</td>\n",
       "      <td>2010.000000</td>\n",
       "      <td>0.240000</td>\n",
       "      <td>0.110000</td>\n",
       "      <td>0.040000</td>\n",
       "      <td>0.040000</td>\n",
       "      <td>0.470000</td>\n",
       "    </tr>\n",
       "    <tr>\n",
       "      <th>max</th>\n",
       "      <td>16600.000000</td>\n",
       "      <td>2020.000000</td>\n",
       "      <td>41.490000</td>\n",
       "      <td>29.020000</td>\n",
       "      <td>10.220000</td>\n",
       "      <td>10.570000</td>\n",
       "      <td>82.740000</td>\n",
       "    </tr>\n",
       "  </tbody>\n",
       "</table>\n",
       "</div>"
      ],
      "text/plain": [
       "               rank          year      na_sales      eu_sales      jp_sales  \\\n",
       "count  16598.000000  16327.000000  16598.000000  16598.000000  16598.000000   \n",
       "mean    8300.605254   2006.406443      0.264667      0.146652      0.077782   \n",
       "std     4791.853933      5.828981      0.816683      0.505351      0.309291   \n",
       "min        1.000000   1980.000000      0.000000      0.000000      0.000000   \n",
       "25%     4151.250000   2003.000000      0.000000      0.000000      0.000000   \n",
       "50%     8300.500000   2007.000000      0.080000      0.020000      0.000000   \n",
       "75%    12449.750000   2010.000000      0.240000      0.110000      0.040000   \n",
       "max    16600.000000   2020.000000     41.490000     29.020000     10.220000   \n",
       "\n",
       "        other_sales  global_sales  \n",
       "count  16598.000000  16598.000000  \n",
       "mean       0.048063      0.537441  \n",
       "std        0.188588      1.555028  \n",
       "min        0.000000      0.010000  \n",
       "25%        0.000000      0.060000  \n",
       "50%        0.010000      0.170000  \n",
       "75%        0.040000      0.470000  \n",
       "max       10.570000     82.740000  "
      ]
     },
     "execution_count": 6,
     "metadata": {},
     "output_type": "execute_result"
    }
   ],
   "source": [
    "# Generating the summary statistics\n",
    "df.describe()"
   ]
  },
  {
   "cell_type": "code",
   "execution_count": 7,
   "id": "05528684-b068-4419-bee1-c7c7e175b174",
   "metadata": {},
   "outputs": [
    {
     "data": {
      "text/plain": [
       "rank              int64\n",
       "name             object\n",
       "platform         object\n",
       "year            float64\n",
       "genre            object\n",
       "publisher        object\n",
       "na_sales        float64\n",
       "eu_sales        float64\n",
       "jp_sales        float64\n",
       "other_sales     float64\n",
       "global_sales    float64\n",
       "dtype: object"
      ]
     },
     "execution_count": 7,
     "metadata": {},
     "output_type": "execute_result"
    }
   ],
   "source": [
    "# Check data types\n",
    "df.dtypes"
   ]
  },
  {
   "cell_type": "code",
   "execution_count": 9,
   "id": "f16d287c-9885-4845-92c6-584209c96351",
   "metadata": {},
   "outputs": [
    {
     "data": {
      "text/plain": [
       "rank            16598\n",
       "name            11493\n",
       "platform           31\n",
       "year               39\n",
       "genre              12\n",
       "publisher         578\n",
       "na_sales          409\n",
       "eu_sales          305\n",
       "jp_sales          244\n",
       "other_sales       157\n",
       "global_sales      623\n",
       "dtype: int64"
      ]
     },
     "execution_count": 9,
     "metadata": {},
     "output_type": "execute_result"
    }
   ],
   "source": [
    "# Check for unique values\n",
    "df.nunique()"
   ]
  },
  {
   "cell_type": "code",
   "execution_count": 8,
   "id": "93ee1e8d-6b16-41b8-8e5e-3e92ae9fbb07",
   "metadata": {},
   "outputs": [
    {
     "data": {
      "text/plain": [
       "rank              0\n",
       "name              0\n",
       "platform          0\n",
       "year            271\n",
       "genre             0\n",
       "publisher        58\n",
       "na_sales          0\n",
       "eu_sales          0\n",
       "jp_sales          0\n",
       "other_sales       0\n",
       "global_sales      0\n",
       "dtype: int64"
      ]
     },
     "execution_count": 8,
     "metadata": {},
     "output_type": "execute_result"
    }
   ],
   "source": [
    "# Check for null values\n",
    "df.isna().sum()"
   ]
  },
  {
   "cell_type": "markdown",
   "id": "48aca833-e991-4028-8ef5-be00b3344b2f",
   "metadata": {},
   "source": [
    "## Data Cleaning"
   ]
  },
  {
   "cell_type": "markdown",
   "id": "1fa010ce-4802-4a18-9e58-4f93ca37c86c",
   "metadata": {},
   "source": [
    "We found as many as 271 null values in year column and 58 values in publisher column.\n",
    "This means we need to clean the data."
   ]
  },
  {
   "cell_type": "code",
   "execution_count": 10,
   "id": "f3676efc-9e0b-4af4-a384-ccd718d44b3f",
   "metadata": {},
   "outputs": [
    {
     "data": {
      "text/plain": [
       "rank            0\n",
       "name            0\n",
       "platform        0\n",
       "year            0\n",
       "genre           0\n",
       "publisher       0\n",
       "na_sales        0\n",
       "eu_sales        0\n",
       "jp_sales        0\n",
       "other_sales     0\n",
       "global_sales    0\n",
       "dtype: int64"
      ]
     },
     "execution_count": 10,
     "metadata": {},
     "output_type": "execute_result"
    }
   ],
   "source": [
    "# drop missing values\n",
    "df.dropna(inplace=True)\n",
    "df.isna().sum()"
   ]
  },
  {
   "cell_type": "code",
   "execution_count": 11,
   "id": "84aa5a09-996e-48c5-a7a4-7127ab49f3c2",
   "metadata": {},
   "outputs": [
    {
     "data": {
      "text/plain": [
       "np.int64(0)"
      ]
     },
     "execution_count": 11,
     "metadata": {},
     "output_type": "execute_result"
    }
   ],
   "source": [
    "# Check for duplicates\n",
    "df.duplicated().sum()"
   ]
  },
  {
   "cell_type": "markdown",
   "id": "19724063-7f19-4ab4-859d-d1755c5f8f48",
   "metadata": {},
   "source": [
    "## Analysis and Data Visualisation"
   ]
  },
  {
   "cell_type": "markdown",
   "id": "fe1f1b5d-c6a1-419b-bd04-087e16d774b1",
   "metadata": {},
   "source": [
    "Here the fun begins. We will see the analysis and visualized of numbers of sales by year, what year the market peaked, highest-selling genre, highest selling console, highest-selling game titles, top publishers of games and sales of game by diffrent region."
   ]
  },
  {
   "cell_type": "markdown",
   "id": "f4b0d470-1515-4c84-b287-270e5bbfe824",
   "metadata": {},
   "source": [
    "#### Sales of Games by Year "
   ]
  },
  {
   "cell_type": "code",
   "execution_count": 12,
   "id": "13a159f6-cfe4-4358-b653-71014485bb0c",
   "metadata": {},
   "outputs": [
    {
     "data": {
      "text/plain": [
       "year\n",
       "1980.0     11.38\n",
       "1981.0     35.77\n",
       "1982.0     28.86\n",
       "1983.0     16.79\n",
       "1984.0     50.36\n",
       "1985.0     53.94\n",
       "1986.0     37.07\n",
       "1987.0     21.74\n",
       "1988.0     47.22\n",
       "1989.0     73.45\n",
       "1990.0     49.39\n",
       "1991.0     32.23\n",
       "1992.0     76.16\n",
       "1993.0     45.98\n",
       "1994.0     79.17\n",
       "1995.0     88.11\n",
       "1996.0    199.15\n",
       "1997.0    200.98\n",
       "1998.0    256.47\n",
       "1999.0    251.27\n",
       "2000.0    201.56\n",
       "2001.0    331.47\n",
       "2002.0    395.52\n",
       "2003.0    357.85\n",
       "2004.0    414.01\n",
       "2005.0    458.51\n",
       "2006.0    521.04\n",
       "2007.0    609.92\n",
       "2008.0    678.90\n",
       "2009.0    667.30\n",
       "2010.0    600.29\n",
       "2011.0    515.80\n",
       "2012.0    363.49\n",
       "2013.0    368.11\n",
       "2014.0    337.03\n",
       "2015.0    264.44\n",
       "2016.0     70.90\n",
       "2017.0      0.05\n",
       "2020.0      0.29\n",
       "Name: global_sales, dtype: float64"
      ]
     },
     "execution_count": 12,
     "metadata": {},
     "output_type": "execute_result"
    }
   ],
   "source": [
    "# Group by year and sum global sales\n",
    "Sales_Of_Games_By_Year = df.groupby('year')['global_sales'].sum()\n",
    "Sales_Of_Games_By_Year"
   ]
  },
  {
   "cell_type": "code",
   "execution_count": 13,
   "id": "70199c2a-4511-4438-9bf5-d545f48bd289",
   "metadata": {},
   "outputs": [
    {
     "data": {
      "image/png": "[encoded data removed]",
      "text/plain": [
       "<Figure size 900x500 with 1 Axes>"
      ]
     },
     "metadata": {},
     "output_type": "display_data"
    }
   ],
   "source": [
    "# Visulisation of Sales of Games By Year\n",
    "Sales_Of_Games_By_Year.plot.line(marker='o', color='indianred', linestyle='--', figsize=(9, 5))\n",
    "plt.xlabel('Year Of Release')\n",
    "plt.ylabel('Total Sales')\n",
    "plt.title('Sales Of Games By Year')\n",
    "plt.grid()"
   ]
  },
  {
   "cell_type": "code",
   "execution_count": 14,
   "id": "ae347d65-f3eb-464f-9175-c33c8c508f06",
   "metadata": {},
   "outputs": [
    {
     "data": {
      "text/plain": [
       "year\n",
       "2008.0    678.90\n",
       "2009.0    667.30\n",
       "2007.0    609.92\n",
       "2010.0    600.29\n",
       "2006.0    521.04\n",
       "Name: global_sales, dtype: float64"
      ]
     },
     "execution_count": 14,
     "metadata": {},
     "output_type": "execute_result"
    }
   ],
   "source": [
    "# Looking into when the market peaked\n",
    "Sales_Of_Games_By_Year.sort_values(ascending=False).head()"
   ]
  },
  {
   "cell_type": "markdown",
   "id": "e379086d-397d-4ed4-9642-785a59696ae0",
   "metadata": {},
   "source": [
    "#### Market seems to peak at 2008 with 678.90M Sales Globally"
   ]
  },
  {
   "cell_type": "code",
   "execution_count": 15,
   "id": "f8770dda-a50f-4e07-a100-c1b31da4ae93",
   "metadata": {},
   "outputs": [
    {
     "data": {
      "text/html": [
       "<div>\n",
       "<style scoped>\n",
       "    .dataframe tbody tr th:only-of-type {\n",
       "        vertical-align: middle;\n",
       "    }\n",
       "\n",
       "    .dataframe tbody tr th {\n",
       "        vertical-align: top;\n",
       "    }\n",
       "\n",
       "    .dataframe thead th {\n",
       "        text-align: right;\n",
       "    }\n",
       "</style>\n",
       "<table border=\"1\" class=\"dataframe\">\n",
       "  <thead>\n",
       "    <tr style=\"text-align: right;\">\n",
       "      <th></th>\n",
       "      <th>rank</th>\n",
       "      <th>name</th>\n",
       "      <th>platform</th>\n",
       "      <th>year</th>\n",
       "      <th>genre</th>\n",
       "      <th>publisher</th>\n",
       "      <th>na_sales</th>\n",
       "      <th>eu_sales</th>\n",
       "      <th>jp_sales</th>\n",
       "      <th>other_sales</th>\n",
       "      <th>global_sales</th>\n",
       "    </tr>\n",
       "  </thead>\n",
       "  <tbody>\n",
       "    <tr>\n",
       "      <th>2</th>\n",
       "      <td>3</td>\n",
       "      <td>Mario Kart Wii</td>\n",
       "      <td>Wii</td>\n",
       "      <td>2008.0</td>\n",
       "      <td>Racing</td>\n",
       "      <td>Nintendo</td>\n",
       "      <td>15.85</td>\n",
       "      <td>12.88</td>\n",
       "      <td>3.79</td>\n",
       "      <td>3.31</td>\n",
       "      <td>35.82</td>\n",
       "    </tr>\n",
       "    <tr>\n",
       "      <th>39</th>\n",
       "      <td>40</td>\n",
       "      <td>Super Smash Bros. Brawl</td>\n",
       "      <td>Wii</td>\n",
       "      <td>2008.0</td>\n",
       "      <td>Fighting</td>\n",
       "      <td>Nintendo</td>\n",
       "      <td>6.75</td>\n",
       "      <td>2.61</td>\n",
       "      <td>2.66</td>\n",
       "      <td>1.02</td>\n",
       "      <td>13.04</td>\n",
       "    </tr>\n",
       "    <tr>\n",
       "      <th>51</th>\n",
       "      <td>52</td>\n",
       "      <td>Grand Theft Auto IV</td>\n",
       "      <td>X360</td>\n",
       "      <td>2008.0</td>\n",
       "      <td>Action</td>\n",
       "      <td>Take-Two Interactive</td>\n",
       "      <td>6.76</td>\n",
       "      <td>3.10</td>\n",
       "      <td>0.14</td>\n",
       "      <td>1.03</td>\n",
       "      <td>11.02</td>\n",
       "    </tr>\n",
       "    <tr>\n",
       "      <th>56</th>\n",
       "      <td>57</td>\n",
       "      <td>Grand Theft Auto IV</td>\n",
       "      <td>PS3</td>\n",
       "      <td>2008.0</td>\n",
       "      <td>Action</td>\n",
       "      <td>Take-Two Interactive</td>\n",
       "      <td>4.76</td>\n",
       "      <td>3.76</td>\n",
       "      <td>0.44</td>\n",
       "      <td>1.62</td>\n",
       "      <td>10.57</td>\n",
       "    </tr>\n",
       "    <tr>\n",
       "      <th>88</th>\n",
       "      <td>89</td>\n",
       "      <td>Pokémon Platinum Version</td>\n",
       "      <td>DS</td>\n",
       "      <td>2008.0</td>\n",
       "      <td>Role-Playing</td>\n",
       "      <td>Nintendo</td>\n",
       "      <td>2.82</td>\n",
       "      <td>1.78</td>\n",
       "      <td>2.69</td>\n",
       "      <td>0.55</td>\n",
       "      <td>7.84</td>\n",
       "    </tr>\n",
       "    <tr>\n",
       "      <th>...</th>\n",
       "      <td>...</td>\n",
       "      <td>...</td>\n",
       "      <td>...</td>\n",
       "      <td>...</td>\n",
       "      <td>...</td>\n",
       "      <td>...</td>\n",
       "      <td>...</td>\n",
       "      <td>...</td>\n",
       "      <td>...</td>\n",
       "      <td>...</td>\n",
       "      <td>...</td>\n",
       "    </tr>\n",
       "    <tr>\n",
       "      <th>16575</th>\n",
       "      <td>16578</td>\n",
       "      <td>Neo Angelique Special</td>\n",
       "      <td>PSP</td>\n",
       "      <td>2008.0</td>\n",
       "      <td>Adventure</td>\n",
       "      <td>Tecmo Koei</td>\n",
       "      <td>0.00</td>\n",
       "      <td>0.00</td>\n",
       "      <td>0.01</td>\n",
       "      <td>0.00</td>\n",
       "      <td>0.01</td>\n",
       "    </tr>\n",
       "    <tr>\n",
       "      <th>16580</th>\n",
       "      <td>16583</td>\n",
       "      <td>Real Rode</td>\n",
       "      <td>PS2</td>\n",
       "      <td>2008.0</td>\n",
       "      <td>Adventure</td>\n",
       "      <td>Kadokawa Shoten</td>\n",
       "      <td>0.00</td>\n",
       "      <td>0.00</td>\n",
       "      <td>0.01</td>\n",
       "      <td>0.00</td>\n",
       "      <td>0.01</td>\n",
       "    </tr>\n",
       "    <tr>\n",
       "      <th>16588</th>\n",
       "      <td>16591</td>\n",
       "      <td>Mega Brain Boost</td>\n",
       "      <td>DS</td>\n",
       "      <td>2008.0</td>\n",
       "      <td>Puzzle</td>\n",
       "      <td>Majesco Entertainment</td>\n",
       "      <td>0.01</td>\n",
       "      <td>0.00</td>\n",
       "      <td>0.00</td>\n",
       "      <td>0.00</td>\n",
       "      <td>0.01</td>\n",
       "    </tr>\n",
       "    <tr>\n",
       "      <th>16592</th>\n",
       "      <td>16595</td>\n",
       "      <td>Plushees</td>\n",
       "      <td>DS</td>\n",
       "      <td>2008.0</td>\n",
       "      <td>Simulation</td>\n",
       "      <td>Destineer</td>\n",
       "      <td>0.01</td>\n",
       "      <td>0.00</td>\n",
       "      <td>0.00</td>\n",
       "      <td>0.00</td>\n",
       "      <td>0.01</td>\n",
       "    </tr>\n",
       "    <tr>\n",
       "      <th>16595</th>\n",
       "      <td>16598</td>\n",
       "      <td>SCORE International Baja 1000: The Official Game</td>\n",
       "      <td>PS2</td>\n",
       "      <td>2008.0</td>\n",
       "      <td>Racing</td>\n",
       "      <td>Activision</td>\n",
       "      <td>0.00</td>\n",
       "      <td>0.00</td>\n",
       "      <td>0.00</td>\n",
       "      <td>0.00</td>\n",
       "      <td>0.01</td>\n",
       "    </tr>\n",
       "  </tbody>\n",
       "</table>\n",
       "<p>1428 rows × 11 columns</p>\n",
       "</div>"
      ],
      "text/plain": [
       "        rank                                              name platform  \\\n",
       "2          3                                    Mario Kart Wii      Wii   \n",
       "39        40                           Super Smash Bros. Brawl      Wii   \n",
       "51        52                               Grand Theft Auto IV     X360   \n",
       "56        57                               Grand Theft Auto IV      PS3   \n",
       "88        89                          Pokémon Platinum Version       DS   \n",
       "...      ...                                               ...      ...   \n",
       "16575  16578                             Neo Angelique Special      PSP   \n",
       "16580  16583                                         Real Rode      PS2   \n",
       "16588  16591                                  Mega Brain Boost       DS   \n",
       "16592  16595                                          Plushees       DS   \n",
       "16595  16598  SCORE International Baja 1000: The Official Game      PS2   \n",
       "\n",
       "         year         genre              publisher  na_sales  eu_sales  \\\n",
       "2      2008.0        Racing               Nintendo     15.85     12.88   \n",
       "39     2008.0      Fighting               Nintendo      6.75      2.61   \n",
       "51     2008.0        Action   Take-Two Interactive      6.76      3.10   \n",
       "56     2008.0        Action   Take-Two Interactive      4.76      3.76   \n",
       "88     2008.0  Role-Playing               Nintendo      2.82      1.78   \n",
       "...       ...           ...                    ...       ...       ...   \n",
       "16575  2008.0     Adventure             Tecmo Koei      0.00      0.00   \n",
       "16580  2008.0     Adventure        Kadokawa Shoten      0.00      0.00   \n",
       "16588  2008.0        Puzzle  Majesco Entertainment      0.01      0.00   \n",
       "16592  2008.0    Simulation              Destineer      0.01      0.00   \n",
       "16595  2008.0        Racing             Activision      0.00      0.00   \n",
       "\n",
       "       jp_sales  other_sales  global_sales  \n",
       "2          3.79         3.31         35.82  \n",
       "39         2.66         1.02         13.04  \n",
       "51         0.14         1.03         11.02  \n",
       "56         0.44         1.62         10.57  \n",
       "88         2.69         0.55          7.84  \n",
       "...         ...          ...           ...  \n",
       "16575      0.01         0.00          0.01  \n",
       "16580      0.01         0.00          0.01  \n",
       "16588      0.00         0.00          0.01  \n",
       "16592      0.00         0.00          0.01  \n",
       "16595      0.00         0.00          0.01  \n",
       "\n",
       "[1428 rows x 11 columns]"
      ]
     },
     "execution_count": 15,
     "metadata": {},
     "output_type": "execute_result"
    }
   ],
   "source": [
    "# Filter data for the year 2008\n",
    "Year_2008 = df[df['year'] == 2008]\n",
    "Year_2008"
   ]
  },
  {
   "cell_type": "markdown",
   "id": "63d1d233-ef02-41a5-b96d-365a0c0250db",
   "metadata": {},
   "source": [
    "## Which Platform and Genre Made the Most Sales When the Market Peaked ?"
   ]
  },
  {
   "cell_type": "code",
   "execution_count": 16,
   "id": "cdabb786-44b9-4b3d-aa02-daf7b6780293",
   "metadata": {},
   "outputs": [
    {
     "data": {
      "text/plain": [
       "platform\n",
       "Wii     174.16\n",
       "DS      147.89\n",
       "X360    135.76\n",
       "PS3     119.69\n",
       "PS2      53.83\n",
       "PSP      34.68\n",
       "PC       12.67\n",
       "XB        0.18\n",
       "DC        0.04\n",
       "Name: global_sales, dtype: float64"
      ]
     },
     "execution_count": 16,
     "metadata": {},
     "output_type": "execute_result"
    }
   ],
   "source": [
    "# Group by platform and sum global sales\n",
    "Most_Popular_Platform = Year_2008.groupby('platform')['global_sales'].sum().sort_values(ascending = False)\n",
    "Most_Popular_Platform"
   ]
  },
  {
   "cell_type": "code",
   "execution_count": 17,
   "id": "89b611bb-838d-4f31-99e8-d2f6945b06ea",
   "metadata": {},
   "outputs": [
    {
     "data": {
      "text/plain": [
       "Text(0.5, 1.0, 'Most Popular Platforms In 2008')"
      ]
     },
     "execution_count": 17,
     "metadata": {},
     "output_type": "execute_result"
    },
    {
     "data": {
      "image/png": "[encoded data removed]",
      "text/plain": [
       "<Figure size 800x400 with 1 Axes>"
      ]
     },
     "metadata": {},
     "output_type": "display_data"
    }
   ],
   "source": [
    "# Plot the most popular platforms in 2008\n",
    "Most_Popular_Platform.plot.bar(color='skyblue', figsize=(8, 4))\n",
    "plt.xticks(rotation=0)\n",
    "plt.xlabel('Platforms')\n",
    "plt.ylabel('Global Sales(In Million)')\n",
    "plt.title('Most Popular Platforms In 2008')"
   ]
  },
  {
   "cell_type": "markdown",
   "id": "f7803fca-e008-427d-855c-653860afdf00",
   "metadata": {},
   "source": [
    "#### Most sold console in 2008: **Wii** with **174.16** million units sold."
   ]
  },
  {
   "cell_type": "code",
   "execution_count": 18,
   "id": "df828e1d-8be1-4d87-8c36-7d80aabcb3a0",
   "metadata": {},
   "outputs": [
    {
     "data": {
      "text/plain": [
       "genre\n",
       "Action          136.39\n",
       "Sports           95.34\n",
       "Misc             87.03\n",
       "Racing           70.66\n",
       "Role-Playing     59.83\n",
       "Shooter          59.51\n",
       "Simulation       46.76\n",
       "Platform         35.70\n",
       "Fighting         35.38\n",
       "Adventure        25.02\n",
       "Puzzle           15.59\n",
       "Strategy         11.69\n",
       "Name: global_sales, dtype: float64"
      ]
     },
     "execution_count": 18,
     "metadata": {},
     "output_type": "execute_result"
    }
   ],
   "source": [
    "# Group by genre and sum global sales\n",
    "Most_Popular_Genres = Year_2008.groupby('genre')['global_sales'].sum().sort_values(ascending = False)\n",
    "Most_Popular_Genres"
   ]
  },
  {
   "cell_type": "code",
   "execution_count": 19,
   "id": "417767dc-bcc5-46a8-8c20-bc388fd405fa",
   "metadata": {},
   "outputs": [
    {
     "data": {
      "text/plain": [
       "Text(0.5, 1.0, 'Most Popular Genres In 2008')"
      ]
     },
     "execution_count": 19,
     "metadata": {},
     "output_type": "execute_result"
    },
    {
     "data": {
      "image/png": "[encoded data removed]",
      "text/plain": [
       "<Figure size 800x600 with 1 Axes>"
      ]
     },
     "metadata": {},
     "output_type": "display_data"
    }
   ],
   "source": [
    "# Plot the most popular genres in 2008\n",
    "Most_Popular_Genres.plot.barh(color='aquamarine', figsize=(8, 6))\n",
    "plt.ylabel('Genres')\n",
    "plt.xlabel('Global Sales(In Million)')\n",
    "plt.title('Most Popular Genres In 2008')"
   ]
  },
  {
   "cell_type": "markdown",
   "id": "63b35685-7298-48d5-bfb7-e3f387f1c110",
   "metadata": {},
   "source": [
    "#### Most popular genre in 2008: **Action** with **136.39** million units sold."
   ]
  },
  {
   "cell_type": "markdown",
   "id": "0557f4ba-3163-441b-825b-724e8e6f0024",
   "metadata": {},
   "source": [
    "## The Best-Selling Games of 2008"
   ]
  },
  {
   "cell_type": "code",
   "execution_count": 20,
   "id": "4a762ab5-024f-485c-91a6-a90afb91f066",
   "metadata": {},
   "outputs": [
    {
     "data": {
      "text/plain": [
       "name\n",
       "Mario Kart Wii                                 35.82\n",
       "Grand Theft Auto IV                            22.47\n",
       "Call of Duty: World at War                     15.87\n",
       "Super Smash Bros. Brawl                        13.04\n",
       "Star Wars: The Force Unleashed                 10.23\n",
       "Guitar Hero: World Tour                        10.05\n",
       "Fallout 3                                       9.96\n",
       "LEGO Indiana Jones: The Original Adventures     9.66\n",
       "LEGO Batman: The Videogame                      9.18\n",
       "FIFA Soccer 09                                  8.67\n",
       "Name: global_sales, dtype: float64"
      ]
     },
     "execution_count": 20,
     "metadata": {},
     "output_type": "execute_result"
    }
   ],
   "source": [
    "# Display the top 10 most sold games in 2008\n",
    "Top_10_Most_Sold_Games = Year_2008.groupby('name')['global_sales'].sum().nlargest(10)\n",
    "Top_10_Most_Sold_Games"
   ]
  },
  {
   "cell_type": "code",
   "execution_count": 21,
   "id": "c98b82ce-8e43-444d-95db-f8d08ed2faba",
   "metadata": {},
   "outputs": [
    {
     "data": {
      "text/plain": [
       "Text(0.5, 1.0, 'Top 10 Most Sold Games In 2008')"
      ]
     },
     "execution_count": 21,
     "metadata": {},
     "output_type": "execute_result"
    },
    {
     "data": {
      "image/png": "[encoded data removed]",
      "text/plain": [
       "<Figure size 1200x600 with 1 Axes>"
      ]
     },
     "metadata": {},
     "output_type": "display_data"
    }
   ],
   "source": [
    "# Plot the top 10 most sold games in 2008\n",
    "Top_10_Most_Sold_Games.plot.barh(color='lightcoral', figsize=(12, 6))\n",
    "plt.ylabel('Games')\n",
    "plt.xlabel('Global Sales (In Million)')\n",
    "plt.title('Top 10 Most Sold Games In 2008') "
   ]
  },
  {
   "cell_type": "markdown",
   "id": "b1dc44e9-e9e2-4f60-873c-e0316c47b40e",
   "metadata": {},
   "source": [
    "### Publisher with Most Released Games\n"
   ]
  },
  {
   "cell_type": "code",
   "execution_count": 22,
   "id": "ae67faa2-d6cb-46b6-9f4c-fefc84298b7a",
   "metadata": {},
   "outputs": [
    {
     "data": {
      "text/plain": [
       "publisher\n",
       "Electronic Arts                 120\n",
       "Ubisoft                         112\n",
       "Activision                       88\n",
       "Sega                             67\n",
       "Konami Digital Entertainment     64\n",
       "Name: count, dtype: int64"
      ]
     },
     "execution_count": 22,
     "metadata": {},
     "output_type": "execute_result"
    }
   ],
   "source": [
    "# The top publishers with the most released game titles in 2008\n",
    "Top_Publisher = Year_2008['publisher'].value_counts().head()\n",
    "Top_Publisher"
   ]
  },
  {
   "cell_type": "code",
   "execution_count": 26,
   "id": "83d2ec72-d8c3-42f6-bafe-9bbe61c89ecd",
   "metadata": {},
   "outputs": [
    {
     "data": {
      "text/plain": [
       "Text(0.5, 1.0, 'Top Publisher In 2008')"
      ]
     },
     "execution_count": 26,
     "metadata": {},
     "output_type": "execute_result"
    },
    {
     "data": {
      "image/png": "[encoded data removed]",
      "text/plain": [
       "<Figure size 900x400 with 1 Axes>"
      ]
     },
     "metadata": {},
     "output_type": "display_data"
    }
   ],
   "source": [
    "# Plot the publishers with the most released game titles in 2008\n",
    "Top_Publisher.nlargest(5).plot.barh(color='thistle', figsize=(9, 4))\n",
    "plt.xlabel('No. Of Games Released')\n",
    "plt.ylabel('Publisher')\n",
    "plt.title('Top Publisher In 2008')"
   ]
  },
  {
   "cell_type": "markdown",
   "id": "bd45f7e6-66d9-482f-a9fb-8424f1ddd6ab",
   "metadata": {},
   "source": [
    "#### Publisher with Most Released Games in 2008: **Electronic Arts** with **120** Games Released."
   ]
  },
  {
   "cell_type": "markdown",
   "id": "afd83a57-7c87-4e4a-919c-c8470ed0b372",
   "metadata": {},
   "source": [
    "## Genre Sales By Market"
   ]
  },
  {
   "cell_type": "code",
   "execution_count": 24,
   "id": "9b01c269-4e11-463c-826f-11874b862574",
   "metadata": {},
   "outputs": [
    {
     "data": {
      "text/html": [
       "<div>\n",
       "<style scoped>\n",
       "    .dataframe tbody tr th:only-of-type {\n",
       "        vertical-align: middle;\n",
       "    }\n",
       "\n",
       "    .dataframe tbody tr th {\n",
       "        vertical-align: top;\n",
       "    }\n",
       "\n",
       "    .dataframe thead th {\n",
       "        text-align: right;\n",
       "    }\n",
       "</style>\n",
       "<table border=\"1\" class=\"dataframe\">\n",
       "  <thead>\n",
       "    <tr style=\"text-align: right;\">\n",
       "      <th></th>\n",
       "      <th>na_sales</th>\n",
       "      <th>eu_sales</th>\n",
       "      <th>jp_sales</th>\n",
       "      <th>other_sales</th>\n",
       "    </tr>\n",
       "    <tr>\n",
       "      <th>genre</th>\n",
       "      <th></th>\n",
       "      <th></th>\n",
       "      <th></th>\n",
       "      <th></th>\n",
       "    </tr>\n",
       "  </thead>\n",
       "  <tbody>\n",
       "    <tr>\n",
       "      <th>Action</th>\n",
       "      <td>72.39</td>\n",
       "      <td>39.49</td>\n",
       "      <td>6.00</td>\n",
       "      <td>18.55</td>\n",
       "    </tr>\n",
       "    <tr>\n",
       "      <th>Adventure</th>\n",
       "      <td>13.01</td>\n",
       "      <td>5.62</td>\n",
       "      <td>4.34</td>\n",
       "      <td>1.94</td>\n",
       "    </tr>\n",
       "    <tr>\n",
       "      <th>Fighting</th>\n",
       "      <td>18.23</td>\n",
       "      <td>7.17</td>\n",
       "      <td>6.15</td>\n",
       "      <td>3.86</td>\n",
       "    </tr>\n",
       "    <tr>\n",
       "      <th>Misc</th>\n",
       "      <td>47.63</td>\n",
       "      <td>21.04</td>\n",
       "      <td>7.24</td>\n",
       "      <td>11.00</td>\n",
       "    </tr>\n",
       "    <tr>\n",
       "      <th>Platform</th>\n",
       "      <td>17.57</td>\n",
       "      <td>10.78</td>\n",
       "      <td>2.36</td>\n",
       "      <td>4.94</td>\n",
       "    </tr>\n",
       "    <tr>\n",
       "      <th>Puzzle</th>\n",
       "      <td>8.18</td>\n",
       "      <td>5.13</td>\n",
       "      <td>0.92</td>\n",
       "      <td>1.30</td>\n",
       "    </tr>\n",
       "    <tr>\n",
       "      <th>Racing</th>\n",
       "      <td>33.50</td>\n",
       "      <td>24.32</td>\n",
       "      <td>4.21</td>\n",
       "      <td>8.70</td>\n",
       "    </tr>\n",
       "    <tr>\n",
       "      <th>Role-Playing</th>\n",
       "      <td>25.25</td>\n",
       "      <td>11.30</td>\n",
       "      <td>17.51</td>\n",
       "      <td>5.63</td>\n",
       "    </tr>\n",
       "    <tr>\n",
       "      <th>Shooter</th>\n",
       "      <td>34.95</td>\n",
       "      <td>16.29</td>\n",
       "      <td>0.77</td>\n",
       "      <td>7.50</td>\n",
       "    </tr>\n",
       "    <tr>\n",
       "      <th>Simulation</th>\n",
       "      <td>26.97</td>\n",
       "      <td>12.12</td>\n",
       "      <td>3.66</td>\n",
       "      <td>4.03</td>\n",
       "    </tr>\n",
       "    <tr>\n",
       "      <th>Sports</th>\n",
       "      <td>48.92</td>\n",
       "      <td>26.96</td>\n",
       "      <td>5.37</td>\n",
       "      <td>13.99</td>\n",
       "    </tr>\n",
       "    <tr>\n",
       "      <th>Strategy</th>\n",
       "      <td>4.84</td>\n",
       "      <td>4.18</td>\n",
       "      <td>1.73</td>\n",
       "      <td>0.95</td>\n",
       "    </tr>\n",
       "  </tbody>\n",
       "</table>\n",
       "</div>"
      ],
      "text/plain": [
       "              na_sales  eu_sales  jp_sales  other_sales\n",
       "genre                                                  \n",
       "Action           72.39     39.49      6.00        18.55\n",
       "Adventure        13.01      5.62      4.34         1.94\n",
       "Fighting         18.23      7.17      6.15         3.86\n",
       "Misc             47.63     21.04      7.24        11.00\n",
       "Platform         17.57     10.78      2.36         4.94\n",
       "Puzzle            8.18      5.13      0.92         1.30\n",
       "Racing           33.50     24.32      4.21         8.70\n",
       "Role-Playing     25.25     11.30     17.51         5.63\n",
       "Shooter          34.95     16.29      0.77         7.50\n",
       "Simulation       26.97     12.12      3.66         4.03\n",
       "Sports           48.92     26.96      5.37        13.99\n",
       "Strategy          4.84      4.18      1.73         0.95"
      ]
     },
     "execution_count": 24,
     "metadata": {},
     "output_type": "execute_result"
    }
   ],
   "source": [
    "# Group by genre and sum sales for each region\n",
    "Genre_Sales_By_Region = Year_2008.groupby('genre')[['na_sales', 'eu_sales', 'jp_sales', 'other_sales']].sum()\n",
    "Genre_Sales_By_Region"
   ]
  },
  {
   "cell_type": "code",
   "execution_count": 25,
   "id": "6c9f7c1e-968e-43cb-8c18-73541f8f5443",
   "metadata": {},
   "outputs": [
    {
     "data": {
      "text/plain": [
       "Text(0.5, 1.0, 'Genre Sales By Region In 2008')"
      ]
     },
     "execution_count": 25,
     "metadata": {},
     "output_type": "execute_result"
    },
    {
     "data": {
      "image/png": "[encoded data removed]",
      "text/plain": [
       "<Figure size 1000x500 with 1 Axes>"
      ]
     },
     "metadata": {},
     "output_type": "display_data"
    }
   ],
   "source": [
    "# Plotting genre sales by region\n",
    "Genre_Sales_By_Region.plot.bar(stacked=True, figsize=(10, 5))\n",
    "plt.xticks(rotation=45)\n",
    "plt.ylabel('Global Sales(In Million)')\n",
    "plt.xlabel('Genres')\n",
    "plt.title('Genre Sales By Region In 2008')"
   ]
  },
  {
   "cell_type": "markdown",
   "id": "60e0c1b0-ad55-4391-ba1c-9992383c779c",
   "metadata": {},
   "source": [
    "## Conclusion"
   ]
  },
  {
   "cell_type": "markdown",
   "id": "6c199973-7a39-4d09-9383-286f93168d1e",
   "metadata": {},
   "source": [
    "That is the result of the exploratory analysis of video games sales dataset. We now know in what year the market peaked, which is year 2008. We also see which Platform and Genre made the most sales when the market peaked, the top 10 highest-selling game titles, and what were the top game publishers. \n",
    "\n",
    "Indeed, this analysis has a lot of rooms for improvement, these datasets need cross-checking, and there are more insights to be discovered. I look forward to expanding on this analysis in the future.\n",
    "\n"
   ]
  },
  {
   "cell_type": "code",
   "execution_count": null,
   "id": "80649cb1-8880-4e7c-a7d0-5fcfc7744181",
   "metadata": {},
   "outputs": [],
   "source": []
  }
 ],
 "metadata": {
  "kernelspec": {
   "display_name": "Python 3 (ipykernel)",
   "language": "python",
   "name": "python3"
  },
  "language_info": {
   "codemirror_mode": {
    "name": "ipython",
    "version": 3
   },
   "file_extension": ".py",
   "mimetype": "text/x-python",
   "name": "python",
   "nbconvert_exporter": "python",
   "pygments_lexer": "ipython3",
   "version": "3.13.1"
  }
 },
 "nbformat": 4,
 "nbformat_minor": 5
}
